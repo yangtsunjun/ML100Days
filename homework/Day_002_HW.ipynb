{
 "cells": [
  {
   "cell_type": "code",
   "execution_count": 1,
   "metadata": {},
   "outputs": [],
   "source": [
    "import numpy as np"
   ]
  },
  {
   "cell_type": "markdown",
   "metadata": {},
   "source": [
    "### 1. [簡答題] 請問 type(...) 跟 a.dtype 這兩個語法有什麼不同？"
   ]
  },
  {
   "cell_type": "code",
   "execution_count": 23,
   "metadata": {},
   "outputs": [
    {
     "name": "stdout",
     "output_type": "stream",
     "text": [
      "type() ==>  <class 'numpy.ndarray'>\n",
      "a.dtype ==>  int32\n"
     ]
    }
   ],
   "source": [
    "a = np.random.randint(10, size=6)\n",
    "\n",
    "print('type() ==> ', type(a))\n",
    "print('a.dtype ==> ', a.dtype)\n",
    "\n",
    "# Answer:\n",
    "# type(a) 回傳變數 a 的資料型態\n",
    "# a.dtype 回傳 a 陣列中元素的資料型態"
   ]
  },
  {
   "cell_type": "markdown",
   "metadata": {},
   "source": [
    "### 2. 請撰寫一個判斷 a 的元素是否等於指定資料型態的函式"
   ]
  },
  {
   "cell_type": "code",
   "execution_count": 25,
   "metadata": {},
   "outputs": [
    {
     "name": "stdout",
     "output_type": "stream",
     "text": [
      "True\n",
      "True\n",
      "True\n"
     ]
    }
   ],
   "source": [
    "def is_dtype(array, a_type):\n",
    "    return array.dtype is np.dtype(a_type)\n",
    "\n",
    "a = np.random.randint(10, size=6) \n",
    "# Test 1\n",
    "print(is_dtype(a, 'int')) # True\n",
    "# Test 2\n",
    "print(is_dtype(a, np.int)) # True\n",
    "# Test 3\n",
    "print(is_dtype(a, np.dtype('int'))) # True"
   ]
  },
  {
   "cell_type": "markdown",
   "metadata": {},
   "source": [
    "### 3. [簡答題] 承上題，請判斷下列三種寫法為何不正確？"
   ]
  },
  {
   "cell_type": "code",
   "execution_count": 22,
   "metadata": {},
   "outputs": [],
   "source": [
    "# 1\n",
    "def is_dtype(a, t):\n",
    "    return a.dtype is t\n",
    "\n",
    "# 2\n",
    "def is_dtype(a, t):\n",
    "    return type(a) == np.dtype(t)\n",
    "\n",
    "# 3\n",
    "def is_dtype(a, t):\n",
    "    return type(a) is np.dtype(t)\n",
    "\n",
    "# Answer:\n",
    "# is 比 == 更嚴格，一定要型態正確才會回傳 True\n",
    "# type(a) 是檢查變數 a 的資料型態，並不是檢查 a 中元素的資料型態\n",
    "# type(a) 是檢查變數 a 的資料型態，並不是檢查 a 中元素的資料型態"
   ]
  },
  {
   "cell_type": "code",
   "execution_count": null,
   "metadata": {},
   "outputs": [],
   "source": []
  }
 ],
 "metadata": {
  "kernelspec": {
   "display_name": "Python 3",
   "language": "python",
   "name": "python3"
  },
  "language_info": {
   "codemirror_mode": {
    "name": "ipython",
    "version": 3
   },
   "file_extension": ".py",
   "mimetype": "text/x-python",
   "name": "python",
   "nbconvert_exporter": "python",
   "pygments_lexer": "ipython3",
   "version": "3.8.5"
  }
 },
 "nbformat": 4,
 "nbformat_minor": 4
}
