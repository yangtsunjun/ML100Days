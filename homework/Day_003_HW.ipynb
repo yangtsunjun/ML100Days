{
 "cells": [
  {
   "cell_type": "markdown",
   "metadata": {},
   "source": [
    "# Day 3 HW"
   ]
  },
  {
   "cell_type": "markdown",
   "metadata": {},
   "source": [
    "### 1. [簡答題] 請比較 np.zeros 和 np.empty 產生出來的陣列有何差異？為什麼要設計兩種方法？"
   ]
  },
  {
   "cell_type": "code",
   "execution_count": 11,
   "metadata": {},
   "outputs": [
    {
     "name": "stdout",
     "output_type": "stream",
     "text": [
      "zeros() ==>  [[0. 0. 0.]\n",
      " [0. 0. 0.]]\n",
      "empty() ==>  [[0. 0. 0.]\n",
      " [0. 0. 0.]]\n"
     ]
    }
   ],
   "source": [
    "zero_array = np.zeros((2,3))\n",
    "empty_array = np.empty((2,3))\n",
    "print('zeros() ==> ', zero_array)\n",
    "print('empty() ==> ', empty_array)\n",
    "\n",
    "# Answer:\n",
    "# zeros(): 可以依照傳入的形狀引數，建立元素全為 0的array\n",
    "# empty(): 不需要給定起始值，但是可以建立給定形狀的陣列，元素值則會隨機給定"
   ]
  },
  {
   "cell_type": "markdown",
   "metadata": {},
   "source": [
    "### 2. 在不用「整數亂數方法」的限制下，如何將包含小數的轉換整數？請將給定的 a 陣列當中的元素變成去掉小數變成整數。"
   ]
  },
  {
   "cell_type": "code",
   "execution_count": 57,
   "metadata": {},
   "outputs": [
    {
     "name": "stdout",
     "output_type": "stream",
     "text": [
      "original array:  [[57.76556982 11.85113026 64.23576165]\n",
      " [14.33422298 65.9681077  92.72714966]]\n",
      "\n",
      "\n",
      "integer_array:  [[58. 12. 64.]\n",
      " [14. 66. 93.]]\n"
     ]
    }
   ],
   "source": [
    "a = np.random.rand(2, 3)*100\n",
    "\n",
    "# use round method to turn floats to integers\n",
    "int_array = np.round(a)\n",
    "\n",
    "print('original array: ', a)\n",
    "print('\\n')\n",
    "print('integer_array: ', int_array)"
   ]
  },
  {
   "cell_type": "markdown",
   "metadata": {},
   "source": [
    "### 3. 承上題，怎樣可以限制整數的範圍介於 m - n 之間？請將給定的 a 陣列當中的元素的範圍調整成 m - n 之間。"
   ]
  },
  {
   "cell_type": "code",
   "execution_count": 52,
   "metadata": {},
   "outputs": [
    {
     "name": "stdout",
     "output_type": "stream",
     "text": [
      "[[37. 32. 32.]\n",
      " [26. 22. 27.]]\n"
     ]
    }
   ],
   "source": [
    "m = 20\n",
    "n = 40\n",
    "\n",
    "a = np.random.rand(2, 3)\n",
    "a = (a * (n - m) + m).round()\n",
    "\n",
    "print(a)"
   ]
  },
  {
   "cell_type": "code",
   "execution_count": null,
   "metadata": {},
   "outputs": [],
   "source": []
  }
 ],
 "metadata": {
  "kernelspec": {
   "display_name": "Python 3",
   "language": "python",
   "name": "python3"
  },
  "language_info": {
   "codemirror_mode": {
    "name": "ipython",
    "version": 3
   },
   "file_extension": ".py",
   "mimetype": "text/x-python",
   "name": "python",
   "nbconvert_exporter": "python",
   "pygments_lexer": "ipython3",
   "version": "3.8.5"
  }
 },
 "nbformat": 4,
 "nbformat_minor": 4
}
