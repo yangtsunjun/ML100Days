{
 "cells": [
  {
   "cell_type": "markdown",
   "metadata": {},
   "source": [
    "## Day 6 HW"
   ]
  },
  {
   "cell_type": "markdown",
   "metadata": {},
   "source": [
    "### 1. [簡答題] 請問下列這三種方法有什麼不同？"
   ]
  },
  {
   "cell_type": "code",
   "execution_count": 1,
   "metadata": {},
   "outputs": [
    {
     "name": "stdout",
     "output_type": "stream",
     "text": [
      "15\n",
      "15\n",
      "15\n"
     ]
    }
   ],
   "source": [
    "import numpy as np \n",
    "\n",
    "a = np.arange(6)\n",
    "\n",
    "print(a.sum()) \n",
    "print(np.sum(a)) \n",
    "print(sum(a))"
   ]
  },
  {
   "cell_type": "markdown",
   "metadata": {},
   "source": [
    "### 2. 請對一個 5x5 的隨機矩陣作正規化的操作。"
   ]
  },
  {
   "cell_type": "code",
   "execution_count": 27,
   "metadata": {},
   "outputs": [
    {
     "name": "stdout",
     "output_type": "stream",
     "text": [
      "Original Array:  \n",
      " [[0.56234149 0.00558553 0.80916692 0.74335664 0.8857026 ]\n",
      " [0.97748436 0.07575679 0.69191102 0.97082555 0.75318673]\n",
      " [0.50625488 0.00169955 0.15323255 0.51632632 0.70748137]\n",
      " [0.31282661 0.95423378 0.65061108 0.88886614 0.25283221]\n",
      " [0.51262481 0.98335873 0.23120507 0.60972521 0.04308382]]\n",
      "Normalized Array:  \n",
      " [[ 0.03192342 -1.68461569  0.79291306  0.59001282  1.02888088]\n",
      " [ 1.31185401 -1.4682701   0.43140037  1.29132419  0.62032005]\n",
      " [-0.14099769 -1.69659661 -1.22940389 -0.10994636  0.47940546]\n",
      " [-0.73735806  1.24016996  0.30406818  1.03863443 -0.92232731]\n",
      " [-0.12135849  1.32996532 -0.98900616  0.17801258 -1.5690044 ]]\n"
     ]
    }
   ],
   "source": [
    "# Normalize: z = (x-mean)/std\n",
    "A = np.random.random((5, 5))\n",
    "\n",
    "# determine the mean and standard deviation of A\n",
    "mean = np.mean(A)\n",
    "std = np.std(A)\n",
    "\n",
    "# normalization\n",
    "norm_A = (A-mean)/std\n",
    "print('Original Array: ', '\\n', A)\n",
    "print('Normalized Array: ', '\\n', norm_A)"
   ]
  },
  {
   "cell_type": "markdown",
   "metadata": {},
   "source": [
    "### 3. 請建立一個長度等於 10 的正整數向量，並且將其中的最大值改成 -1。"
   ]
  },
  {
   "cell_type": "code",
   "execution_count": 44,
   "metadata": {},
   "outputs": [
    {
     "name": "stdout",
     "output_type": "stream",
     "text": [
      "Original Array:  [89  5 39 67 22 98 50  8  6 29]\n",
      "Modified Array:  [89  5 39 67 22 -1 50  8  6 29]\n"
     ]
    }
   ],
   "source": [
    "a = np.random.randint(1, 100, size=10)\n",
    "print('Original Array: ', a)\n",
    "max_num = a.max()\n",
    "a[a == max_num] = -1\n",
    "print('Modified Array: ', a)"
   ]
  },
  {
   "cell_type": "code",
   "execution_count": null,
   "metadata": {},
   "outputs": [],
   "source": []
  }
 ],
 "metadata": {
  "kernelspec": {
   "display_name": "Python 3",
   "language": "python",
   "name": "python3"
  },
  "language_info": {
   "codemirror_mode": {
    "name": "ipython",
    "version": 3
   },
   "file_extension": ".py",
   "mimetype": "text/x-python",
   "name": "python",
   "nbconvert_exporter": "python",
   "pygments_lexer": "ipython3",
   "version": "3.8.5"
  }
 },
 "nbformat": 4,
 "nbformat_minor": 4
}
