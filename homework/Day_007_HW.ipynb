{
 "cells": [
  {
   "cell_type": "markdown",
   "metadata": {},
   "source": [
    "## Day 7 HW"
   ]
  },
  {
   "cell_type": "markdown",
   "metadata": {},
   "source": [
    "### 1. 請比較對一個 100 x 100 * 100 的陣列，使用不同方法對每一個元素 +1 的時間比較。"
   ]
  },
  {
   "cell_type": "code",
   "execution_count": 2,
   "metadata": {},
   "outputs": [],
   "source": [
    "import numpy as np\n",
    "Z = np.random.randint(0, 10, 1000000).reshape(100, 100, 100)"
   ]
  },
  {
   "cell_type": "code",
   "execution_count": 24,
   "metadata": {},
   "outputs": [
    {
     "name": "stdout",
     "output_type": "stream",
     "text": [
      "25.7 ns ± 18.4 ns per loop (mean ± std. dev. of 7 runs, 10 loops each)\n"
     ]
    }
   ],
   "source": [
    "%timeit -n 10 a = 2\n",
    "Z += 1"
   ]
  },
  {
   "cell_type": "code",
   "execution_count": 25,
   "metadata": {},
   "outputs": [
    {
     "name": "stdout",
     "output_type": "stream",
     "text": [
      "24.3 ns ± 10.5 ns per loop (mean ± std. dev. of 7 runs, 10 loops each)\n"
     ]
    }
   ],
   "source": [
    "%timeit -n 10 a = 2\n",
    "for row in Z:\n",
    "    for r in row:\n",
    "        for i in r:\n",
    "            i + 1"
   ]
  },
  {
   "cell_type": "code",
   "execution_count": 26,
   "metadata": {},
   "outputs": [
    {
     "name": "stdout",
     "output_type": "stream",
     "text": [
      "22.9 ns ± 11.6 ns per loop (mean ± std. dev. of 7 runs, 10 loops each)\n"
     ]
    }
   ],
   "source": [
    "%timeit -n 10 a = 2\n",
    "for i in np.nditer(Z):\n",
    "    i + 1"
   ]
  },
  {
   "cell_type": "markdown",
   "metadata": {},
   "source": [
    "### 2. 如何從一個陣列中，找出出現頻率最高的數值與位置？"
   ]
  },
  {
   "cell_type": "code",
   "execution_count": 47,
   "metadata": {},
   "outputs": [
    {
     "name": "stdout",
     "output_type": "stream",
     "text": [
      "ndarray-->  [9 2 0 8 7 4 2 8 3 4 5 6 1 6 1 0 0 5 0 7 6 3 1 8 5 0 5 8 5 2 6 9 9 6 7 3 4\n",
      " 2 5 1 3 5 8 4 5 1 5 6 0 1]\n",
      "Number -->  5\n",
      "Positions -->  [10 17 24 26 28 38 41 44 46]\n"
     ]
    }
   ],
   "source": [
    "Z = np.random.randint(0, 10, 50)\n",
    "print('ndarray--> ', Z)\n",
    "count_list = np.bincount(Z)\n",
    "num = count_list.argmax()\n",
    "print('Number --> ', num)\n",
    "print('Positions --> ', np.where(Z == num)[0])"
   ]
  },
  {
   "cell_type": "markdown",
   "metadata": {},
   "source": [
    "### 3. 如何利用 list(...) 實現 a.tolist() 的效果？試著用程式實作。"
   ]
  },
  {
   "cell_type": "code",
   "execution_count": 18,
   "metadata": {},
   "outputs": [
    {
     "name": "stdout",
     "output_type": "stream",
     "text": [
      "a:\n",
      "[1, 6, 2, 8, 1, 4]\n",
      "[1, 6, 2, 8, 1, 4]\n",
      "\n",
      " b:\n",
      "[[8, 2, 0, 2], [3, 3, 9, 7], [3, 7, 5, 0]]\n",
      "[array([8, 2, 0, 2]), array([3, 3, 9, 7]), array([3, 7, 5, 0])]\n",
      "\n",
      " c:\n",
      "[[[9, 3], [9, 1], [0, 7]], [[8, 7], [7, 8], [5, 9]]]\n",
      "[array([[9, 3],\n",
      "       [9, 1],\n",
      "       [0, 7]]), array([[8, 7],\n",
      "       [7, 8],\n",
      "       [5, 9]])]\n"
     ]
    }
   ],
   "source": [
    "a = np.random.randint(10, size=6) \n",
    "print('a:')\n",
    "print(a.tolist())\n",
    "print(list(a))\n",
    "\n",
    "b = np.random.randint(10, size=(3,4)) \n",
    "print('\\n', 'b:')\n",
    "print(b.tolist())\n",
    "print(list(b))\n",
    "\n",
    "c = np.random.randint(10, size=(2,3,2)) \n",
    "print('\\n', 'c:')\n",
    "print(c.tolist())\n",
    "print(list(c))"
   ]
  },
  {
   "cell_type": "code",
   "execution_count": 26,
   "metadata": {},
   "outputs": [
    {
     "name": "stdout",
     "output_type": "stream",
     "text": [
      "a -->  [9, 3, 7, 9, 7, 0]\n",
      "b -->  [[7, 6, 6, 3], [9, 0, 0, 0], [1, 1, 2, 2]]\n",
      "c -->  [[[2, 1], [9, 0], [6, 7]], [[6, 4], [6, 8], [0, 2]]]\n"
     ]
    }
   ],
   "source": [
    "def ndtolist(ndarray):\n",
    "    if type(ndarray) != np.ndarray:\n",
    "        return ndarray\n",
    "    nd_list = list(ndarray)\n",
    "    for i in range(len(nd_list)):\n",
    "        nd_list[i] = ndtolist(nd_list[i])\n",
    "    return nd_list\n",
    "\n",
    "print('a --> ', ndtolist(a))\n",
    "print('b --> ', ndtolist(b))\n",
    "print('c --> ', ndtolist(c))"
   ]
  },
  {
   "cell_type": "code",
   "execution_count": null,
   "metadata": {},
   "outputs": [],
   "source": []
  }
 ],
 "metadata": {
  "kernelspec": {
   "display_name": "Python 3",
   "language": "python",
   "name": "python3"
  },
  "language_info": {
   "codemirror_mode": {
    "name": "ipython",
    "version": 3
   },
   "file_extension": ".py",
   "mimetype": "text/x-python",
   "name": "python",
   "nbconvert_exporter": "python",
   "pygments_lexer": "ipython3",
   "version": "3.8.5"
  }
 },
 "nbformat": 4,
 "nbformat_minor": 4
}
